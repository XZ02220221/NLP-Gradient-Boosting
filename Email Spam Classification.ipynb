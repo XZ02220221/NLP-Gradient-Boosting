{
 "cells": [
  {
   "cell_type": "markdown",
   "metadata": {},
   "source": [
    "# Building Machine Learning Classifiers: Model selection"
   ]
  },
  {
   "cell_type": "markdown",
   "metadata": {},
   "source": [
    "### Read in & clean text"
   ]
  },
  {
   "cell_type": "code",
   "execution_count": 6,
   "metadata": {
    "tags": []
   },
   "outputs": [],
   "source": [
    "import nltk\n",
    "import pandas as pd\n",
    "import re\n",
    "from sklearn.feature_extraction.text import TfidfVectorizer\n",
    "import string\n",
    "\n",
    "stopwords = nltk.corpus.stopwords.words('english')\n",
    "ps = nltk.PorterStemmer()\n",
    "\n",
    "data = pd.read_csv(\"SMSSpamCollection.tsv\", sep='\\t')\n",
    "data.columns = ['label', 'body_text']\n",
    "\n",
    "#Feature creation\n",
    "def count_punct(text):\n",
    "    count = sum([1 for char in text if char in string.punctuation])\n",
    "    return round(count/(len(text) - text.count(\" \")), 3)*100\n",
    "\n",
    "data['body_len'] = data['body_text'].apply(lambda x: len(x) - x.count(\" \"))\n",
    "data['punct%'] = data['body_text'].apply(lambda x: count_punct(x))"
   ]
  },
  {
   "cell_type": "code",
   "execution_count": 7,
   "metadata": {},
   "outputs": [],
   "source": [
    "#Natural Language Processing\n",
    "def clean_text(text):\n",
    "    text = \"\".join([word.lower() for word in text if word not in string.punctuation])\n",
    "    tokens = re.split('\\W+', text)\n",
    "    text = [ps.stem(word) for word in tokens if word not in stopwords]\n",
    "    return text"
   ]
  },
  {
   "cell_type": "markdown",
   "metadata": {},
   "source": [
    "### Split into train/test"
   ]
  },
  {
   "cell_type": "code",
   "execution_count": 8,
   "metadata": {
    "tags": []
   },
   "outputs": [],
   "source": [
    "from sklearn.model_selection import train_test_split\n",
    "\n",
    "X_train, X_test, y_train, y_test = train_test_split(data[['body_text', 'body_len', 'punct%']], data['label'], test_size=0.2)"
   ]
  },
  {
   "cell_type": "markdown",
   "metadata": {},
   "source": [
    "### Vectorize text"
   ]
  },
  {
   "cell_type": "code",
   "execution_count": 9,
   "metadata": {},
   "outputs": [
    {
     "data": {
      "text/html": [
       "<div>\n",
       "<style scoped>\n",
       "    .dataframe tbody tr th:only-of-type {\n",
       "        vertical-align: middle;\n",
       "    }\n",
       "\n",
       "    .dataframe tbody tr th {\n",
       "        vertical-align: top;\n",
       "    }\n",
       "\n",
       "    .dataframe thead th {\n",
       "        text-align: right;\n",
       "    }\n",
       "</style>\n",
       "<table border=\"1\" class=\"dataframe\">\n",
       "  <thead>\n",
       "    <tr style=\"text-align: right;\">\n",
       "      <th></th>\n",
       "      <th>body_len</th>\n",
       "      <th>punct%</th>\n",
       "      <th>0</th>\n",
       "      <th>1</th>\n",
       "      <th>2</th>\n",
       "      <th>3</th>\n",
       "      <th>4</th>\n",
       "      <th>5</th>\n",
       "      <th>6</th>\n",
       "      <th>7</th>\n",
       "      <th>...</th>\n",
       "      <th>7163</th>\n",
       "      <th>7164</th>\n",
       "      <th>7165</th>\n",
       "      <th>7166</th>\n",
       "      <th>7167</th>\n",
       "      <th>7168</th>\n",
       "      <th>7169</th>\n",
       "      <th>7170</th>\n",
       "      <th>7171</th>\n",
       "      <th>7172</th>\n",
       "    </tr>\n",
       "  </thead>\n",
       "  <tbody>\n",
       "    <tr>\n",
       "      <th>0</th>\n",
       "      <td>31</td>\n",
       "      <td>0.0</td>\n",
       "      <td>0.000000</td>\n",
       "      <td>0.0</td>\n",
       "      <td>0.0</td>\n",
       "      <td>0.0</td>\n",
       "      <td>0.0</td>\n",
       "      <td>0.0</td>\n",
       "      <td>0.0</td>\n",
       "      <td>0.0</td>\n",
       "      <td>...</td>\n",
       "      <td>0.0</td>\n",
       "      <td>0.0</td>\n",
       "      <td>0.0</td>\n",
       "      <td>0.0</td>\n",
       "      <td>0.0</td>\n",
       "      <td>0.0</td>\n",
       "      <td>0.0</td>\n",
       "      <td>0.0</td>\n",
       "      <td>0.0</td>\n",
       "      <td>0.0</td>\n",
       "    </tr>\n",
       "    <tr>\n",
       "      <th>1</th>\n",
       "      <td>31</td>\n",
       "      <td>12.9</td>\n",
       "      <td>0.306597</td>\n",
       "      <td>0.0</td>\n",
       "      <td>0.0</td>\n",
       "      <td>0.0</td>\n",
       "      <td>0.0</td>\n",
       "      <td>0.0</td>\n",
       "      <td>0.0</td>\n",
       "      <td>0.0</td>\n",
       "      <td>...</td>\n",
       "      <td>0.0</td>\n",
       "      <td>0.0</td>\n",
       "      <td>0.0</td>\n",
       "      <td>0.0</td>\n",
       "      <td>0.0</td>\n",
       "      <td>0.0</td>\n",
       "      <td>0.0</td>\n",
       "      <td>0.0</td>\n",
       "      <td>0.0</td>\n",
       "      <td>0.0</td>\n",
       "    </tr>\n",
       "    <tr>\n",
       "      <th>2</th>\n",
       "      <td>40</td>\n",
       "      <td>20.0</td>\n",
       "      <td>0.252710</td>\n",
       "      <td>0.0</td>\n",
       "      <td>0.0</td>\n",
       "      <td>0.0</td>\n",
       "      <td>0.0</td>\n",
       "      <td>0.0</td>\n",
       "      <td>0.0</td>\n",
       "      <td>0.0</td>\n",
       "      <td>...</td>\n",
       "      <td>0.0</td>\n",
       "      <td>0.0</td>\n",
       "      <td>0.0</td>\n",
       "      <td>0.0</td>\n",
       "      <td>0.0</td>\n",
       "      <td>0.0</td>\n",
       "      <td>0.0</td>\n",
       "      <td>0.0</td>\n",
       "      <td>0.0</td>\n",
       "      <td>0.0</td>\n",
       "    </tr>\n",
       "    <tr>\n",
       "      <th>3</th>\n",
       "      <td>133</td>\n",
       "      <td>6.0</td>\n",
       "      <td>0.137522</td>\n",
       "      <td>0.0</td>\n",
       "      <td>0.0</td>\n",
       "      <td>0.0</td>\n",
       "      <td>0.0</td>\n",
       "      <td>0.0</td>\n",
       "      <td>0.0</td>\n",
       "      <td>0.0</td>\n",
       "      <td>...</td>\n",
       "      <td>0.0</td>\n",
       "      <td>0.0</td>\n",
       "      <td>0.0</td>\n",
       "      <td>0.0</td>\n",
       "      <td>0.0</td>\n",
       "      <td>0.0</td>\n",
       "      <td>0.0</td>\n",
       "      <td>0.0</td>\n",
       "      <td>0.0</td>\n",
       "      <td>0.0</td>\n",
       "    </tr>\n",
       "    <tr>\n",
       "      <th>4</th>\n",
       "      <td>31</td>\n",
       "      <td>3.2</td>\n",
       "      <td>0.000000</td>\n",
       "      <td>0.0</td>\n",
       "      <td>0.0</td>\n",
       "      <td>0.0</td>\n",
       "      <td>0.0</td>\n",
       "      <td>0.0</td>\n",
       "      <td>0.0</td>\n",
       "      <td>0.0</td>\n",
       "      <td>...</td>\n",
       "      <td>0.0</td>\n",
       "      <td>0.0</td>\n",
       "      <td>0.0</td>\n",
       "      <td>0.0</td>\n",
       "      <td>0.0</td>\n",
       "      <td>0.0</td>\n",
       "      <td>0.0</td>\n",
       "      <td>0.0</td>\n",
       "      <td>0.0</td>\n",
       "      <td>0.0</td>\n",
       "    </tr>\n",
       "  </tbody>\n",
       "</table>\n",
       "<p>5 rows × 7175 columns</p>\n",
       "</div>"
      ],
      "text/plain": [
       "   body_len  punct%         0    1    2    3    4    5    6    7  ...  7163  \\\n",
       "0        31     0.0  0.000000  0.0  0.0  0.0  0.0  0.0  0.0  0.0  ...   0.0   \n",
       "1        31    12.9  0.306597  0.0  0.0  0.0  0.0  0.0  0.0  0.0  ...   0.0   \n",
       "2        40    20.0  0.252710  0.0  0.0  0.0  0.0  0.0  0.0  0.0  ...   0.0   \n",
       "3       133     6.0  0.137522  0.0  0.0  0.0  0.0  0.0  0.0  0.0  ...   0.0   \n",
       "4        31     3.2  0.000000  0.0  0.0  0.0  0.0  0.0  0.0  0.0  ...   0.0   \n",
       "\n",
       "   7164  7165  7166  7167  7168  7169  7170  7171  7172  \n",
       "0   0.0   0.0   0.0   0.0   0.0   0.0   0.0   0.0   0.0  \n",
       "1   0.0   0.0   0.0   0.0   0.0   0.0   0.0   0.0   0.0  \n",
       "2   0.0   0.0   0.0   0.0   0.0   0.0   0.0   0.0   0.0  \n",
       "3   0.0   0.0   0.0   0.0   0.0   0.0   0.0   0.0   0.0  \n",
       "4   0.0   0.0   0.0   0.0   0.0   0.0   0.0   0.0   0.0  \n",
       "\n",
       "[5 rows x 7175 columns]"
      ]
     },
     "execution_count": 9,
     "metadata": {},
     "output_type": "execute_result"
    }
   ],
   "source": [
    "tfidf_vect = TfidfVectorizer(analyzer=clean_text)\n",
    "tfidf_vect_fit = tfidf_vect.fit(X_train['body_text'])\n",
    "\n",
    "tfidf_train = tfidf_vect_fit.transform(X_train['body_text'])\n",
    "tfidf_test = tfidf_vect_fit.transform(X_test['body_text'])\n",
    "\n",
    "X_train_vect = pd.concat([X_train[['body_len', 'punct%']].reset_index(drop=True), \n",
    "           pd.DataFrame(tfidf_train.toarray())], axis=1)\n",
    "X_test_vect = pd.concat([X_test[['body_len', 'punct%']].reset_index(drop=True), \n",
    "           pd.DataFrame(tfidf_test.toarray())], axis=1)\n",
    "\n",
    "X_train_vect.head()"
   ]
  },
  {
   "cell_type": "markdown",
   "metadata": {},
   "source": [
    "### Final evaluation of models"
   ]
  },
  {
   "cell_type": "code",
   "execution_count": 10,
   "metadata": {
    "tags": []
   },
   "outputs": [],
   "source": [
    "from sklearn.ensemble import RandomForestClassifier, GradientBoostingClassifier\n",
    "from sklearn.metrics import precision_recall_fscore_support as score\n",
    "import time"
   ]
  },
  {
   "cell_type": "code",
   "execution_count": 12,
   "metadata": {},
   "outputs": [
    {
     "name": "stdout",
     "output_type": "stream",
     "text": [
      "Est: 10 / Depth: 10 ---- Precision: 1.0 / Recall: 0.248 / Accuracy: 0.899\n",
      "Est: 10 / Depth: 20 ---- Precision: 1.0 / Recall: 0.544 / Accuracy: 0.939\n",
      "Est: 10 / Depth: 30 ---- Precision: 1.0 / Recall: 0.678 / Accuracy: 0.957\n",
      "Est: 10 / Depth: None ---- Precision: 1.0 / Recall: 0.732 / Accuracy: 0.964\n",
      "Est: 50 / Depth: 10 ---- Precision: 1.0 / Recall: 0.275 / Accuracy: 0.903\n",
      "Est: 50 / Depth: 20 ---- Precision: 1.0 / Recall: 0.557 / Accuracy: 0.941\n",
      "Est: 50 / Depth: 30 ---- Precision: 1.0 / Recall: 0.698 / Accuracy: 0.96\n",
      "Est: 50 / Depth: None ---- Precision: 1.0 / Recall: 0.799 / Accuracy: 0.973\n",
      "Est: 100 / Depth: 10 ---- Precision: 1.0 / Recall: 0.201 / Accuracy: 0.893\n",
      "Est: 100 / Depth: 20 ---- Precision: 1.0 / Recall: 0.557 / Accuracy: 0.941\n",
      "Est: 100 / Depth: 30 ---- Precision: 1.0 / Recall: 0.658 / Accuracy: 0.954\n",
      "Est: 100 / Depth: None ---- Precision: 1.0 / Recall: 0.792 / Accuracy: 0.972\n",
      "Est: 150 / Depth: 10 ---- Precision: 1.0 / Recall: 0.282 / Accuracy: 0.904\n",
      "Est: 150 / Depth: 20 ---- Precision: 1.0 / Recall: 0.557 / Accuracy: 0.941\n",
      "Est: 150 / Depth: 30 ---- Precision: 1.0 / Recall: 0.664 / Accuracy: 0.955\n",
      "Est: 150 / Depth: None ---- Precision: 1.0 / Recall: 0.792 / Accuracy: 0.972\n"
     ]
    }
   ],
   "source": [
    "#Try random forest grid search\n",
    "def train_RF(n_est, depth):\n",
    "    rf = RandomForestClassifier(n_estimators=n_est, max_depth=depth, n_jobs=-1)\n",
    "    rf_model = rf.fit(X_train_vect, y_train)\n",
    "    y_pred = rf_model.predict(X_test_vect)\n",
    "    precision, recall, fscore, support = score(y_test, y_pred, pos_label='spam', average='binary')\n",
    "    print('Est: {} / Depth: {} ---- Precision: {} / Recall: {} / Accuracy: {}'.format(\n",
    "        n_est, depth, round(precision, 3), round(recall, 3),\n",
    "        round((y_pred==y_test).sum() / len(y_pred), 3)))\n",
    "    \n",
    "    \n",
    "for n_est in [10, 50, 100, 150]:\n",
    "    for depth in [10, 20, 30, None]:\n",
    "        train_RF(n_est, depth)"
   ]
  },
  {
   "cell_type": "code",
   "execution_count": 13,
   "metadata": {},
   "outputs": [
    {
     "name": "stdout",
     "output_type": "stream",
     "text": [
      "Fit time: 1.609 / Predict time: 0.057 ---- Precision: 1.0 / Recall: 0.785 / Accuracy: 0.971\n"
     ]
    }
   ],
   "source": [
    "#Take this parameter combination: \n",
    "rf = RandomForestClassifier(n_estimators=150, max_depth=None, n_jobs=-1)\n",
    "\n",
    "start = time.time()\n",
    "rf_model = rf.fit(X_train_vect, y_train)\n",
    "end = time.time()\n",
    "fit_time = (end - start)\n",
    "\n",
    "start = time.time()\n",
    "y_pred = rf_model.predict(X_test_vect)\n",
    "end = time.time()\n",
    "pred_time = (end - start)\n",
    "\n",
    "precision, recall, fscore, train_support = score(y_test, y_pred, pos_label='spam', average='binary')\n",
    "print('Fit time: {} / Predict time: {} ---- Precision: {} / Recall: {} / Accuracy: {}'.format(\n",
    "    round(fit_time, 3), round(pred_time, 3), round(precision, 3), round(recall, 3), round((y_pred==y_test).sum()/len(y_pred), 3)))"
   ]
  },
  {
   "cell_type": "code",
   "execution_count": 15,
   "metadata": {},
   "outputs": [
    {
     "name": "stdout",
     "output_type": "stream",
     "text": [
      "Est: 50 / Depth: 3 / LR: 0.01 ---- Precision: 1.0 / Recall: 0.007 / Accuracy: 0.867\n",
      "Est: 50 / Depth: 3 / LR: 0.1 ---- Precision: 0.919 / Recall: 0.685 / Accuracy: 0.95\n",
      "Est: 50 / Depth: 3 / LR: 1 ---- Precision: 0.881 / Recall: 0.792 / Accuracy: 0.958\n",
      "Est: 50 / Depth: 7 / LR: 0.01 ---- Precision: 1.0 / Recall: 0.007 / Accuracy: 0.867\n",
      "Est: 50 / Depth: 7 / LR: 0.1 ---- Precision: 0.927 / Recall: 0.772 / Accuracy: 0.961\n",
      "Est: 50 / Depth: 7 / LR: 1 ---- Precision: 0.908 / Recall: 0.799 / Accuracy: 0.962\n",
      "Est: 50 / Depth: 11 / LR: 0.01 ---- Precision: 1.0 / Recall: 0.007 / Accuracy: 0.867\n",
      "Est: 50 / Depth: 11 / LR: 0.1 ---- Precision: 0.934 / Recall: 0.758 / Accuracy: 0.961\n",
      "Est: 50 / Depth: 11 / LR: 1 ---- Precision: 0.925 / Recall: 0.826 / Accuracy: 0.968\n"
     ]
    },
    {
     "name": "stderr",
     "output_type": "stream",
     "text": [
      "/opt/anaconda3/lib/python3.8/site-packages/sklearn/metrics/_classification.py:1245: UndefinedMetricWarning: Precision and F-score are ill-defined and being set to 0.0 due to no predicted samples. Use `zero_division` parameter to control this behavior.\n",
      "  _warn_prf(average, modifier, msg_start, len(result))\n"
     ]
    },
    {
     "name": "stdout",
     "output_type": "stream",
     "text": [
      "Est: 50 / Depth: 15 / LR: 0.01 ---- Precision: 0.0 / Recall: 0.0 / Accuracy: 0.866\n",
      "Est: 50 / Depth: 15 / LR: 0.1 ---- Precision: 0.934 / Recall: 0.758 / Accuracy: 0.961\n",
      "Est: 50 / Depth: 15 / LR: 1 ---- Precision: 0.931 / Recall: 0.812 / Accuracy: 0.967\n",
      "Est: 100 / Depth: 3 / LR: 0.01 ---- Precision: 0.926 / Recall: 0.503 / Accuracy: 0.928\n",
      "Est: 100 / Depth: 3 / LR: 0.1 ---- Precision: 0.933 / Recall: 0.752 / Accuracy: 0.96\n",
      "Est: 100 / Depth: 3 / LR: 1 ---- Precision: 0.879 / Recall: 0.779 / Accuracy: 0.956\n",
      "Est: 100 / Depth: 7 / LR: 0.01 ---- Precision: 0.919 / Recall: 0.611 / Accuracy: 0.941\n",
      "Est: 100 / Depth: 7 / LR: 0.1 ---- Precision: 0.935 / Recall: 0.779 / Accuracy: 0.963\n",
      "Est: 100 / Depth: 7 / LR: 1 ---- Precision: 0.896 / Recall: 0.805 / Accuracy: 0.961\n",
      "Est: 100 / Depth: 11 / LR: 0.01 ---- Precision: 0.945 / Recall: 0.691 / Accuracy: 0.953\n",
      "Est: 100 / Depth: 11 / LR: 0.1 ---- Precision: 0.929 / Recall: 0.785 / Accuracy: 0.963\n",
      "Est: 100 / Depth: 11 / LR: 1 ---- Precision: 0.944 / Recall: 0.792 / Accuracy: 0.966\n",
      "Est: 100 / Depth: 15 / LR: 0.01 ---- Precision: 0.932 / Recall: 0.738 / Accuracy: 0.958\n",
      "Est: 100 / Depth: 15 / LR: 0.1 ---- Precision: 0.935 / Recall: 0.779 / Accuracy: 0.963\n",
      "Est: 100 / Depth: 15 / LR: 1 ---- Precision: 0.923 / Recall: 0.805 / Accuracy: 0.965\n",
      "Est: 150 / Depth: 3 / LR: 0.01 ---- Precision: 0.916 / Recall: 0.51 / Accuracy: 0.928\n",
      "Est: 150 / Depth: 3 / LR: 0.1 ---- Precision: 0.935 / Recall: 0.779 / Accuracy: 0.963\n",
      "Est: 150 / Depth: 3 / LR: 1 ---- Precision: 0.896 / Recall: 0.805 / Accuracy: 0.961\n",
      "Est: 150 / Depth: 7 / LR: 0.01 ---- Precision: 0.922 / Recall: 0.631 / Accuracy: 0.943\n",
      "Est: 150 / Depth: 7 / LR: 0.1 ---- Precision: 0.937 / Recall: 0.799 / Accuracy: 0.966\n",
      "Est: 150 / Depth: 7 / LR: 1 ---- Precision: 0.944 / Recall: 0.792 / Accuracy: 0.966\n",
      "Est: 150 / Depth: 11 / LR: 0.01 ---- Precision: 0.938 / Recall: 0.705 / Accuracy: 0.954\n",
      "Est: 150 / Depth: 11 / LR: 0.1 ---- Precision: 0.929 / Recall: 0.792 / Accuracy: 0.964\n",
      "Est: 150 / Depth: 11 / LR: 1 ---- Precision: 0.968 / Recall: 0.805 / Accuracy: 0.97\n",
      "Est: 150 / Depth: 15 / LR: 0.01 ---- Precision: 0.918 / Recall: 0.752 / Accuracy: 0.958\n",
      "Est: 150 / Depth: 15 / LR: 0.1 ---- Precision: 0.937 / Recall: 0.799 / Accuracy: 0.966\n",
      "Est: 150 / Depth: 15 / LR: 1 ---- Precision: 0.938 / Recall: 0.812 / Accuracy: 0.968\n"
     ]
    }
   ],
   "source": [
    "#Try Gradient Boosting\n",
    "def train_GB(est, max_depth, lr):\n",
    "    gb = GradientBoostingClassifier(n_estimators=est, max_depth=max_depth, learning_rate=lr)\n",
    "    gb_model = gb.fit(X_train_vect, y_train)\n",
    "    y_pred = gb_model.predict(X_test_vect)\n",
    "    precision, recall, fscore, train_support = score(y_test, y_pred, pos_label='spam', average='binary')\n",
    "    print('Est: {} / Depth: {} / LR: {} ---- Precision: {} / Recall: {} / Accuracy: {}'.format(\n",
    "        est, max_depth, lr, round(precision, 3), round(recall, 3), \n",
    "        round((y_pred==y_test).sum()/len(y_pred), 3)))\n",
    "\n",
    "for n_est in [50, 100, 150]:\n",
    "    for max_depth in [3, 7, 11, 15]:\n",
    "        for lr in [0.01, 0.1, 1]:\n",
    "            train_GB(n_est, max_depth, lr)"
   ]
  },
  {
   "cell_type": "code",
   "execution_count": 16,
   "metadata": {},
   "outputs": [
    {
     "name": "stdout",
     "output_type": "stream",
     "text": [
      "Fit time: 107.071 / Predict time: 0.085 ---- Precision: 0.938 / Recall: 0.805 / Accuracy: 0.967\n"
     ]
    }
   ],
   "source": [
    "#Take this combination of parameters\n",
    "gb = GradientBoostingClassifier(n_estimators=150, max_depth=11)\n",
    "\n",
    "start = time.time()\n",
    "gb_model = gb.fit(X_train_vect, y_train)\n",
    "end = time.time()\n",
    "fit_time = (end - start)\n",
    "\n",
    "start = time.time()\n",
    "y_pred = gb_model.predict(X_test_vect)\n",
    "end = time.time()\n",
    "pred_time = (end - start)\n",
    "\n",
    "precision, recall, fscore, train_support = score(y_test, y_pred, pos_label='spam', average='binary')\n",
    "print('Fit time: {} / Predict time: {} ---- Precision: {} / Recall: {} / Accuracy: {}'.format(\n",
    "    round(fit_time, 3), round(pred_time, 3), round(precision, 3), round(recall, 3), round((y_pred==y_test).sum()/len(y_pred), 3)))"
   ]
  },
  {
   "cell_type": "code",
   "execution_count": null,
   "metadata": {
    "collapsed": true,
    "jupyter": {
     "outputs_hidden": true
    }
   },
   "outputs": [],
   "source": [
    "#Gradient Boosting seems to perform better in terms of"
   ]
  }
 ],
 "metadata": {
  "kernelspec": {
   "display_name": "Python 3",
   "language": "python",
   "name": "python3"
  },
  "language_info": {
   "codemirror_mode": {
    "name": "ipython",
    "version": 3
   },
   "file_extension": ".py",
   "mimetype": "text/x-python",
   "name": "python",
   "nbconvert_exporter": "python",
   "pygments_lexer": "ipython3",
   "version": "3.8.8"
  }
 },
 "nbformat": 4,
 "nbformat_minor": 4
}
